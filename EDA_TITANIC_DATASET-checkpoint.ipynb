{
 "cells": [
  {
   "cell_type": "markdown",
   "id": "04fb955f",
   "metadata": {},
   "source": [
    "# Objective"
   ]
  },
  {
   "cell_type": "markdown",
   "id": "9ebee29c",
   "metadata": {},
   "source": [
    "The objective here is to make a Exploratory Data Analysis **(EDA)** on Titanic Dataset to gather insights and predict \n",
    "the survior on the basis of factors such as age, gender, class, pclass, etc."
   ]
  },
  {
   "cell_type": "code",
   "execution_count": 1,
   "id": "efc628bd",
   "metadata": {},
   "outputs": [],
   "source": [
    "print(\"Hello World.This is my first EDA in Titanic Data\")"
   ]
  },
  {
   "cell_type": "code",
   "execution_count": 3,
   "id": "03aadc3f",
   "metadata": {},
   "outputs": [],
   "source": [
    "import pandas as pd\n",
    "import numpy as np\n",
    "import matplotlib.pyplot as plt\n",
    "import pandas_profiling\n",
    "import ydata_profiling\n",
    "import seaborn as sns\n",
    "%matplotlib inline\n",
    "sns.set()"
   ]
  },
  {
   "cell_type": "code",
   "execution_count": 4,
   "id": "f742d0da",
   "metadata": {},
   "outputs": [],
   "source": [
    "Titanic_data = pd.read_csv('http://localhost:8888/edit/titanic_data')"
   ]
  },
  {
   "cell_type": "code",
   "execution_count": 5,
   "id": "882155cc",
   "metadata": {},
   "outputs": [],
   "source": [
    "Titanic_data.head()"
   ]
  },
  {
   "cell_type": "code",
   "execution_count": 6,
   "id": "8f74c16f",
   "metadata": {},
   "outputs": [],
   "source": [
    "Titanic_data"
   ]
  },
  {
   "cell_type": "code",
   "execution_count": null,
   "id": "7082e7e6",
   "metadata": {},
   "outputs": [],
   "source": []
  }
 ],
 "metadata": {
  "kernelspec": {
   "display_name": "Python 3 (ipykernel)",
   "language": "python",
   "name": "python3"
  },
  "language_info": {
   "codemirror_mode": {
    "name": "ipython",
    "version": 3
   },
   "file_extension": ".py",
   "mimetype": "text/x-python",
   "name": "python",
   "nbconvert_exporter": "python",
   "pygments_lexer": "ipython3",
   "version": "3.10.11"
  }
 },
 "nbformat": 4,
 "nbformat_minor": 5
}
